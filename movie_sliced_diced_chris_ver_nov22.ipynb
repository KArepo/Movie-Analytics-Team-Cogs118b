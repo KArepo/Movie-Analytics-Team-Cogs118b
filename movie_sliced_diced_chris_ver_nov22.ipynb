{
 "cells": [
  {
   "cell_type": "code",
   "execution_count": 7,
   "metadata": {
    "collapsed": true
   },
   "outputs": [],
   "source": [
    "import numpy as np"
   ]
  },
  {
   "cell_type": "code",
   "execution_count": 8,
   "metadata": {
    "collapsed": false
   },
   "outputs": [],
   "source": [
    "my_data = np.genfromtxt('movie_metadata_copy_Kay_edited.csv', dtype=None, delimiter=',', autostrip=True)"
   ]
  },
  {
   "cell_type": "code",
   "execution_count": 10,
   "metadata": {
    "collapsed": false,
    "scrolled": true
   },
   "outputs": [
    {
     "name": "stdout",
     "output_type": "stream",
     "text": [
      "('Sci-Fi', 616)\n",
      "('Crime', 889)\n",
      "('Romance', 1107)\n",
      "('Animation', 242)\n",
      "('Music', 214)\n",
      "('Comedy', 1872)\n",
      "('War', 212)\n",
      "('Horror', 564)\n",
      "('Film-Noir', 6)\n",
      "('Adventure', 922)\n",
      "('News', 3)\n",
      "('Reality-TV', 2)\n",
      "('Thriller', 1409)\n",
      "('Western', 97)\n",
      "('Mystery', 499)\n",
      "('Short', 5)\n",
      "('Drama', 2592)\n",
      "('Action', 1153)\n",
      "('Documentary', 121)\n",
      "('Musical', 132)\n",
      "('History', 206)\n",
      "('Family', 546)\n",
      "('Fantasy', 610)\n",
      "('Game-Show', 1)\n",
      "('Sport', 182)\n",
      "('Biography', 293)\n"
     ]
    }
   ],
   "source": [
    "from xlrd import open_workbook\n",
    "wb = open_workbook('Movie Genre.xlsx')\n",
    "sheet = wb.sheet_by_index(0)\n",
    "wb\n",
    "# read header values into the list    \n",
    "keys = [sheet.cell(row_index, 0).value for row_index in xrange(sheet.nrows)]\n",
    "\n",
    "dict_list = {}\n",
    "for row_index in xrange(0, sheet.nrows):\n",
    "    d = keys[row_index]\n",
    "    dict_list[str(d)] = [];\n",
    "\n",
    "    \n",
    "#movieNamesCol = my_data[:,11]  \n",
    "movieGenresCol = my_data[:,9] \n",
    "\n",
    "# for: loop (i) through movies\n",
    "for i in range(1, len(movieNamesCol)):\n",
    "    \n",
    "\n",
    "# split genre into string array\n",
    "    split_str = movieGenresCol[i].split(\"|\", len(movieGenresCol[i]))\n",
    "    # for: loop (k) through string list\n",
    "    for k in range(0,len(split_str)):\n",
    "        \n",
    "        # add each movie (i) genre in (k) to its correct genre dictionary\n",
    "            dict_list[split_str[k]].append(i);\n",
    "                     \n",
    "#get counts\n",
    "for key,value in dict_list.items():\n",
    "    print(key, sum(1 for v in value if v))\n",
    "        \n"
   ]
  },
  {
   "cell_type": "code",
   "execution_count": null,
   "metadata": {
    "collapsed": true
   },
   "outputs": [],
   "source": []
  }
 ],
 "metadata": {
  "kernelspec": {
   "display_name": "Python 2",
   "language": "python",
   "name": "python2"
  },
  "language_info": {
   "codemirror_mode": {
    "name": "ipython",
    "version": 2
   },
   "file_extension": ".py",
   "mimetype": "text/x-python",
   "name": "python",
   "nbconvert_exporter": "python",
   "pygments_lexer": "ipython2",
   "version": "2.7.10"
  }
 },
 "nbformat": 4,
 "nbformat_minor": 0
}
