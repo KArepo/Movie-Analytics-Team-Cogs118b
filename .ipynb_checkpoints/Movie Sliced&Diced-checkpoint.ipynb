{
 "cells": [
  {
   "cell_type": "code",
   "execution_count": 1,
   "metadata": {
    "collapsed": true
   },
   "outputs": [],
   "source": [
    "import numpy as np"
   ]
  },
  {
   "cell_type": "code",
   "execution_count": 9,
   "metadata": {
    "collapsed": false
   },
   "outputs": [
    {
     "ename": "ValueError",
     "evalue": "Some errors were detected !\n    Line #66 (got 29 columns instead of 28)\n    Line #240 (got 29 columns instead of 28)\n    Line #276 (got 29 columns instead of 28)\n    Line #281 (got 29 columns instead of 28)\n    Line #690 (got 29 columns instead of 28)\n    Line #818 (got 29 columns instead of 28)\n    Line #899 (got 29 columns instead of 28)\n    Line #925 (got 29 columns instead of 28)\n    Line #955 (got 30 columns instead of 28)\n    Line #1101 (got 29 columns instead of 28)\n    Line #1217 (got 29 columns instead of 28)\n    Line #1503 (got 29 columns instead of 28)\n    Line #1553 (got 29 columns instead of 28)\n    Line #1777 (got 31 columns instead of 28)\n    Line #1786 (got 29 columns instead of 28)\n    Line #1800 (got 29 columns instead of 28)\n    Line #1848 (got 29 columns instead of 28)\n    Line #1891 (got 29 columns instead of 28)\n    Line #1958 (got 29 columns instead of 28)\n    Line #2036 (got 29 columns instead of 28)\n    Line #2109 (got 29 columns instead of 28)\n    Line #2324 (got 29 columns instead of 28)\n    Line #2372 (got 30 columns instead of 28)\n    Line #2438 (got 29 columns instead of 28)\n    Line #2506 (got 29 columns instead of 28)\n    Line #2607 (got 29 columns instead of 28)\n    Line #2796 (got 29 columns instead of 28)\n    Line #2834 (got 29 columns instead of 28)\n    Line #2843 (got 29 columns instead of 28)\n    Line #2878 (got 29 columns instead of 28)\n    Line #3009 (got 29 columns instead of 28)\n    Line #3155 (got 29 columns instead of 28)\n    Line #3184 (got 30 columns instead of 28)\n    Line #3190 (got 29 columns instead of 28)\n    Line #3219 (got 29 columns instead of 28)\n    Line #3234 (got 29 columns instead of 28)\n    Line #3257 (got 30 columns instead of 28)\n    Line #3269 (got 31 columns instead of 28)\n    Line #3326 (got 29 columns instead of 28)\n    Line #3476 (got 29 columns instead of 28)\n    Line #3479 (got 29 columns instead of 28)\n    Line #3553 (got 29 columns instead of 28)\n    Line #3644 (got 29 columns instead of 28)\n    Line #3713 (got 29 columns instead of 28)\n    Line #3732 (got 29 columns instead of 28)\n    Line #3791 (got 29 columns instead of 28)\n    Line #3795 (got 29 columns instead of 28)\n    Line #3906 (got 12 columns instead of 28)\n    Line #3945 (got 29 columns instead of 28)\n    Line #4019 (got 29 columns instead of 28)\n    Line #4181 (got 29 columns instead of 28)\n    Line #4222 (got 29 columns instead of 28)\n    Line #4287 (got 29 columns instead of 28)\n    Line #4325 (got 29 columns instead of 28)\n    Line #4385 (got 29 columns instead of 28)\n    Line #4410 (got 29 columns instead of 28)\n    Line #4449 (got 12 columns instead of 28)\n    Line #4460 (got 29 columns instead of 28)\n    Line #4486 (got 30 columns instead of 28)\n    Line #4500 (got 29 columns instead of 28)\n    Line #4504 (got 29 columns instead of 28)\n    Line #4556 (got 29 columns instead of 28)\n    Line #4642 (got 29 columns instead of 28)\n    Line #4655 (got 29 columns instead of 28)\n    Line #4841 (got 29 columns instead of 28)\n    Line #4895 (got 29 columns instead of 28)\n    Line #4896 (got 29 columns instead of 28)\n    Line #4965 (got 29 columns instead of 28)\n    Line #4974 (got 29 columns instead of 28)\n    Line #4976 (got 29 columns instead of 28)\n    Line #5004 (got 30 columns instead of 28)",
     "output_type": "error",
     "traceback": [
      "\u001b[0;31m---------------------------------------------------------------------------\u001b[0m",
      "\u001b[0;31mValueError\u001b[0m                                Traceback (most recent call last)",
      "\u001b[0;32m<ipython-input-9-f50562f77718>\u001b[0m in \u001b[0;36m<module>\u001b[0;34m()\u001b[0m\n\u001b[0;32m----> 1\u001b[0;31m \u001b[0mmy_data\u001b[0m \u001b[0;34m=\u001b[0m \u001b[0mnp\u001b[0m\u001b[0;34m.\u001b[0m\u001b[0mgenfromtxt\u001b[0m\u001b[0;34m(\u001b[0m\u001b[0;34m'movie_metadata.csv'\u001b[0m\u001b[0;34m,\u001b[0m \u001b[0mdelimiter\u001b[0m\u001b[0;34m=\u001b[0m\u001b[0;34m','\u001b[0m\u001b[0;34m)\u001b[0m\u001b[0;34m\u001b[0m\u001b[0m\n\u001b[0m",
      "\u001b[0;32m/usr/local/lib/python2.7/site-packages/numpy/lib/npyio.pyc\u001b[0m in \u001b[0;36mgenfromtxt\u001b[0;34m(fname, dtype, comments, delimiter, skip_header, skip_footer, converters, missing_values, filling_values, usecols, names, excludelist, deletechars, replace_space, autostrip, case_sensitive, defaultfmt, unpack, usemask, loose, invalid_raise, max_rows)\u001b[0m\n\u001b[1;32m   1764\u001b[0m             \u001b[0;31m# Raise an exception ?\u001b[0m\u001b[0;34m\u001b[0m\u001b[0;34m\u001b[0m\u001b[0m\n\u001b[1;32m   1765\u001b[0m             \u001b[0;32mif\u001b[0m \u001b[0minvalid_raise\u001b[0m\u001b[0;34m:\u001b[0m\u001b[0;34m\u001b[0m\u001b[0m\n\u001b[0;32m-> 1766\u001b[0;31m                 \u001b[0;32mraise\u001b[0m \u001b[0mValueError\u001b[0m\u001b[0;34m(\u001b[0m\u001b[0merrmsg\u001b[0m\u001b[0;34m)\u001b[0m\u001b[0;34m\u001b[0m\u001b[0m\n\u001b[0m\u001b[1;32m   1767\u001b[0m             \u001b[0;31m# Issue a warning ?\u001b[0m\u001b[0;34m\u001b[0m\u001b[0;34m\u001b[0m\u001b[0m\n\u001b[1;32m   1768\u001b[0m             \u001b[0;32melse\u001b[0m\u001b[0;34m:\u001b[0m\u001b[0;34m\u001b[0m\u001b[0m\n",
      "\u001b[0;31mValueError\u001b[0m: Some errors were detected !\n    Line #66 (got 29 columns instead of 28)\n    Line #240 (got 29 columns instead of 28)\n    Line #276 (got 29 columns instead of 28)\n    Line #281 (got 29 columns instead of 28)\n    Line #690 (got 29 columns instead of 28)\n    Line #818 (got 29 columns instead of 28)\n    Line #899 (got 29 columns instead of 28)\n    Line #925 (got 29 columns instead of 28)\n    Line #955 (got 30 columns instead of 28)\n    Line #1101 (got 29 columns instead of 28)\n    Line #1217 (got 29 columns instead of 28)\n    Line #1503 (got 29 columns instead of 28)\n    Line #1553 (got 29 columns instead of 28)\n    Line #1777 (got 31 columns instead of 28)\n    Line #1786 (got 29 columns instead of 28)\n    Line #1800 (got 29 columns instead of 28)\n    Line #1848 (got 29 columns instead of 28)\n    Line #1891 (got 29 columns instead of 28)\n    Line #1958 (got 29 columns instead of 28)\n    Line #2036 (got 29 columns instead of 28)\n    Line #2109 (got 29 columns instead of 28)\n    Line #2324 (got 29 columns instead of 28)\n    Line #2372 (got 30 columns instead of 28)\n    Line #2438 (got 29 columns instead of 28)\n    Line #2506 (got 29 columns instead of 28)\n    Line #2607 (got 29 columns instead of 28)\n    Line #2796 (got 29 columns instead of 28)\n    Line #2834 (got 29 columns instead of 28)\n    Line #2843 (got 29 columns instead of 28)\n    Line #2878 (got 29 columns instead of 28)\n    Line #3009 (got 29 columns instead of 28)\n    Line #3155 (got 29 columns instead of 28)\n    Line #3184 (got 30 columns instead of 28)\n    Line #3190 (got 29 columns instead of 28)\n    Line #3219 (got 29 columns instead of 28)\n    Line #3234 (got 29 columns instead of 28)\n    Line #3257 (got 30 columns instead of 28)\n    Line #3269 (got 31 columns instead of 28)\n    Line #3326 (got 29 columns instead of 28)\n    Line #3476 (got 29 columns instead of 28)\n    Line #3479 (got 29 columns instead of 28)\n    Line #3553 (got 29 columns instead of 28)\n    Line #3644 (got 29 columns instead of 28)\n    Line #3713 (got 29 columns instead of 28)\n    Line #3732 (got 29 columns instead of 28)\n    Line #3791 (got 29 columns instead of 28)\n    Line #3795 (got 29 columns instead of 28)\n    Line #3906 (got 12 columns instead of 28)\n    Line #3945 (got 29 columns instead of 28)\n    Line #4019 (got 29 columns instead of 28)\n    Line #4181 (got 29 columns instead of 28)\n    Line #4222 (got 29 columns instead of 28)\n    Line #4287 (got 29 columns instead of 28)\n    Line #4325 (got 29 columns instead of 28)\n    Line #4385 (got 29 columns instead of 28)\n    Line #4410 (got 29 columns instead of 28)\n    Line #4449 (got 12 columns instead of 28)\n    Line #4460 (got 29 columns instead of 28)\n    Line #4486 (got 30 columns instead of 28)\n    Line #4500 (got 29 columns instead of 28)\n    Line #4504 (got 29 columns instead of 28)\n    Line #4556 (got 29 columns instead of 28)\n    Line #4642 (got 29 columns instead of 28)\n    Line #4655 (got 29 columns instead of 28)\n    Line #4841 (got 29 columns instead of 28)\n    Line #4895 (got 29 columns instead of 28)\n    Line #4896 (got 29 columns instead of 28)\n    Line #4965 (got 29 columns instead of 28)\n    Line #4974 (got 29 columns instead of 28)\n    Line #4976 (got 29 columns instead of 28)\n    Line #5004 (got 30 columns instead of 28)"
     ]
    }
   ],
   "source": [
    "my_data = np.genfromtxt('movie_metadata_copy_Kay_edited.csv', delimiter=',')"
   ]
  },
  {
   "cell_type": "code",
   "execution_count": null,
   "metadata": {
    "collapsed": true
   },
   "outputs": [],
   "source": []
  },
  {
   "cell_type": "code",
   "execution_count": null,
   "metadata": {
    "collapsed": true
   },
   "outputs": [],
   "source": []
  },
  {
   "cell_type": "code",
   "execution_count": null,
   "metadata": {
    "collapsed": true
   },
   "outputs": [],
   "source": []
  }
 ],
 "metadata": {
  "kernelspec": {
   "display_name": "Python 2",
   "language": "python",
   "name": "python2"
  },
  "language_info": {
   "codemirror_mode": {
    "name": "ipython",
    "version": 2
   },
   "file_extension": ".py",
   "mimetype": "text/x-python",
   "name": "python",
   "nbconvert_exporter": "python",
   "pygments_lexer": "ipython2",
   "version": "2.7.11"
  }
 },
 "nbformat": 4,
 "nbformat_minor": 0
}
