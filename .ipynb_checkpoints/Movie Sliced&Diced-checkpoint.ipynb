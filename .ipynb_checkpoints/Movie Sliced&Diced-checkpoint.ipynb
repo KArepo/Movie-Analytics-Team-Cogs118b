{
 "cells": [
  {
   "cell_type": "code",
   "execution_count": 1,
   "metadata": {
    "collapsed": true
   },
   "outputs": [],
   "source": [
    "import numpy as np\n",
    "from StringIO import StringIO\n",
    "import string\n",
    "from scipy import stats\n",
    "from sklearn import datasets, linear_model\n",
    "import math"
   ]
  },
  {
   "cell_type": "code",
   "execution_count": 2,
   "metadata": {
    "collapsed": false
   },
   "outputs": [
    {
     "name": "stdout",
     "output_type": "stream",
     "text": [
      "5041\n",
      "21\n"
     ]
    }
   ],
   "source": [
    "# this imports our data\n",
    "data = np.genfromtxt('movie_metadata.csv', dtype=None, delimiter=',', autostrip=True)\n",
    "\n",
    "# this is the uncropped data set\n",
    "fullDataSet = data\n",
    "\n",
    "# this chops out the director name, actor 2 name, actor 1 name, movie Title, actor 3 name, plot keywords,\n",
    "# movie imbd link, content rating\n",
    "data = np.delete(data, [2, 7, 11, 12, 15, 17, 18, 22], 1)\n",
    "\n",
    "# reducing \"data\" matrix to only numeric data \n",
    "onlyNumericData  = np.delete(data, [1,10,12,13], 1)\n",
    "\n",
    "#vector containing feature names \n",
    "colNames = data[0,:]\n",
    "\n",
    "# cuts out feature label row\n",
    "movieData = np.delete(data, (0), axis=0)\n",
    "\n",
    "# finds length,numMovies, and width,numFeatures, of dataset and prints\n",
    "numMovies = movieData.shape[0]\n",
    "numFeatures = movieData.shape[1]\n",
    "print numMovies \n",
    "print numFeatures"
   ]
  },
  {
   "cell_type": "code",
   "execution_count": 5,
   "metadata": {
    "collapsed": true
   },
   "outputs": [],
   "source": [
    "# STARTS EASYDEX FUNCTION AND EXAMPLES"
   ]
  },
  {
   "cell_type": "code",
   "execution_count": 6,
   "metadata": {
    "collapsed": false
   },
   "outputs": [],
   "source": [
    "# This function provides an easy way of indexing our data set. \n",
    "\n",
    "#The arguments are the movieID, the feature you want or 0 for all features , followed by a boolean 1 or 0 for \n",
    "# the cropped data set \"data\" or the uncropped data set \"fullDataSet\"\n",
    "\n",
    "#\n",
    "# example function calls are: easydex(112,'movieID',1)  \n",
    "#         This returns the 112 movie's movieID which is 112. \n",
    "# example function calls are: easydex(460,0,1)\n",
    "#         This gives all the data on the 460th movie. \n",
    "# example function calls are: easydex(460,0,0)\n",
    "#         This gives all the data on the 460th movie from the \"fullDataSet\" \n",
    "#         instead of the cropped \"data\" matrix.\n",
    "\n",
    "def easydex(MovieRow, FeatureString, selectDataSet):\n",
    "    \n",
    "    if selectDataSet == 1:\n",
    "        dataSet = data\n",
    "    elif selectDataSet == 2:\n",
    "        dataSet = onlyNumericData \n",
    "    else: \n",
    "        dataSet = fullDataSet\n",
    "    \n",
    "    MovieRow = MovieRow -1\n",
    "    my_data_dict= {}\n",
    "   \n",
    "    col_names = dataSet[0,:]\n",
    "   \n",
    "    # returns specific feature for a specific movie\n",
    "    if FeatureString != 0:\n",
    "        for l in range(0,numFeatures):\n",
    "            my_data_dict[col_names[l]]= dataSet[1:,l]\n",
    "   \n",
    "        example1 = my_data_dict[FeatureString]\n",
    "        return[example1[MovieRow]]\n",
    "    \n",
    "    #returns whole row for a specific movie\n",
    "    else:\n",
    "        my_data_neat_index = dataSet[1:,:]\n",
    "        myMovieSample = my_data_neat_index[MovieRow,:]\n",
    "        return myMovieSample"
   ]
  },
  {
   "cell_type": "code",
   "execution_count": 7,
   "metadata": {
    "collapsed": false
   },
   "outputs": [
    {
     "data": {
      "text/plain": [
       "['112']"
      ]
     },
     "execution_count": 7,
     "metadata": {},
     "output_type": "execute_result"
    }
   ],
   "source": [
    "#testing easydex function, output should be 112\n",
    "easydex(112,'movieID',1)"
   ]
  },
  {
   "cell_type": "code",
   "execution_count": 8,
   "metadata": {
    "collapsed": false
   },
   "outputs": [
    {
     "data": {
      "text/plain": [
       "array(['1', 'Color', 'James Cameron', '723', '178', '0', '855',\n",
       "       'Joel David Moore', '1000', '760505847',\n",
       "       'Action|Adventure|Fantasy|Sci-Fi', 'CCH Pounder', '\"\"\"Avatar\"\"\"',\n",
       "       '886204', '4834', 'Wes Studi', '0',\n",
       "       'avatar|future|marine|native|paraplegic',\n",
       "       'http://www.imdb.com/title/tt0499549/?ref_=fn_tt_tt_1', '3054',\n",
       "       'English', 'USA', 'PG-13', '237000000', '2009', '936', '7.9',\n",
       "       '1.78', '33000'], \n",
       "      dtype='|S149')"
      ]
     },
     "execution_count": 8,
     "metadata": {},
     "output_type": "execute_result"
    }
   ],
   "source": [
    "#testing easydex function output\n",
    "#This gives all the data on the 1st movie from the \"fullDataSet\" \n",
    "#instead of the cropped \"data\" matrix.\n",
    "easydex(1,0,0)\n",
    "\n"
   ]
  },
  {
   "cell_type": "code",
   "execution_count": 9,
   "metadata": {
    "collapsed": false
   },
   "outputs": [
    {
     "data": {
      "text/plain": [
       "array(['1', 'Color', '723', '178', '0', '855', '1000', '760505847',\n",
       "       '886204', '4834', '0', '3054', 'English', 'USA', '237000000',\n",
       "       '2009', '936', '7.9', '1.78', '33000'], \n",
       "      dtype='|S149')"
      ]
     },
     "execution_count": 9,
     "metadata": {},
     "output_type": "execute_result"
    }
   ],
   "source": [
    "#testing easydex function output should be all data in \"data\" matrix on movie 1\n",
    "easydex(1,0,1)"
   ]
  },
  {
   "cell_type": "code",
   "execution_count": 10,
   "metadata": {
    "collapsed": false
   },
   "outputs": [
    {
     "data": {
      "text/plain": [
       "array(['1', '723', '178', '0', '855', '1000', '760505847', '886204',\n",
       "       '4834', '0', '3054', '237000000', '2009', '936', '7.9', '1.78',\n",
       "       '33000'], \n",
       "      dtype='|S149')"
      ]
     },
     "execution_count": 10,
     "metadata": {},
     "output_type": "execute_result"
    }
   ],
   "source": [
    "#testing easydex function output\n",
    "#This gives all the data on the 460th movie from the \"fullDataSet\" \n",
    "#instead of the cropped \"data\" matrix.\n",
    "easydex(1,0,2)"
   ]
  },
  {
   "cell_type": "code",
   "execution_count": 11,
   "metadata": {
    "collapsed": true
   },
   "outputs": [],
   "source": [
    "# ENDS EASYDEX FUNCTION AND EXAMPLES"
   ]
  },
  {
   "cell_type": "code",
   "execution_count": 12,
   "metadata": {
    "collapsed": true
   },
   "outputs": [],
   "source": [
    "onlyNumericData = onlyNumericData[1:,:]"
   ]
  },
  {
   "cell_type": "code",
   "execution_count": 13,
   "metadata": {
    "collapsed": false
   },
   "outputs": [
    {
     "name": "stdout",
     "output_type": "stream",
     "text": [
      "['2' '302' '169' '563' '1000' '40000' '309404152' '471220' '48350' '0'\n",
      " '1238' '300000000' '2007' '5000' '7.1' '2.35' '0']\n",
      "['2' '302' '169' '563' '1000' '40000' '309404152' '471220' '48350' '0'\n",
      " '1238' '300000000' '2007' '5000' '7.1' '2.35' '0']\n"
     ]
    },
    {
     "ename": "ValueError",
     "evalue": "could not convert string to float: ",
     "output_type": "error",
     "traceback": [
      "\u001b[0;31m---------------------------------------------------------------------------\u001b[0m",
      "\u001b[0;31mValueError\u001b[0m                                Traceback (most recent call last)",
      "\u001b[0;32m<ipython-input-13-96bd582ac59a>\u001b[0m in \u001b[0;36m<module>\u001b[0;34m()\u001b[0m\n\u001b[1;32m      8\u001b[0m \u001b[0;34m\u001b[0m\u001b[0m\n\u001b[1;32m      9\u001b[0m \u001b[0;34m\u001b[0m\u001b[0m\n\u001b[0;32m---> 10\u001b[0;31m \u001b[0monlyNumericData\u001b[0m \u001b[0;34m=\u001b[0m \u001b[0monlyNumericData\u001b[0m\u001b[0;34m.\u001b[0m\u001b[0mastype\u001b[0m\u001b[0;34m(\u001b[0m\u001b[0mnp\u001b[0m\u001b[0;34m.\u001b[0m\u001b[0mfloat\u001b[0m\u001b[0;34m)\u001b[0m\u001b[0;34m\u001b[0m\u001b[0m\n\u001b[0m\u001b[1;32m     11\u001b[0m \u001b[0;32mprint\u001b[0m\u001b[0;34m(\u001b[0m\u001b[0monlyNumericData\u001b[0m\u001b[0;34m[\u001b[0m\u001b[0;36m1\u001b[0m\u001b[0;34m,\u001b[0m\u001b[0;34m:\u001b[0m\u001b[0;34m]\u001b[0m\u001b[0;34m)\u001b[0m\u001b[0;34m\u001b[0m\u001b[0m\n\u001b[1;32m     12\u001b[0m \u001b[0;34m\u001b[0m\u001b[0m\n",
      "\u001b[0;31mValueError\u001b[0m: could not convert string to float: "
     ]
    }
   ],
   "source": [
    "# Normalize the data \n",
    "#stats.zscore(movieData)\n",
    "\n",
    "print (easydex(1,0,2))\n",
    "print(onlyNumericData[1,:])\n",
    "\n",
    "#onlyNumericData = onlyNumericData.astype(float)\n",
    "\n",
    "\n",
    "onlyNumericData = onlyNumericData.astype(np.float)\n",
    "print(onlyNumericData[1,:])\n",
    "\n",
    "#stats.zscore(onlyNumericData , axis=2, ddof=1)"
   ]
  },
  {
   "cell_type": "code",
   "execution_count": 1,
   "metadata": {
    "collapsed": false
   },
   "outputs": [],
   "source": [
    "genres = {'Action', 'Adventure','Animation','Biography','Comedy','Crime','Documentary','Drama','Family','Fantasy',\n",
    "          'Film-Noir','Game-Show','History','Horror','Music','Musical','Mystery','News','Reality-TV','Romance','Sci-Fi',\n",
    "          'Short','Sport','Thriller','War','Western'}\n",
    "\n",
    "moviesByGenreBucket = {}\n",
    "\n",
    "for genre in genres:\n",
    "    moviesByGenreBucket[genre] = []\n",
    "    "
   ]
  },
  {
   "cell_type": "code",
   "execution_count": 6,
   "metadata": {
    "collapsed": false,
    "scrolled": false
   },
   "outputs": [
    {
     "name": "stdout",
     "output_type": "stream",
     "text": [
      "['1' 'Color' '723' '178' '0' '855' '1000' '760505847' '886204' '4834' '0'\n",
      " '3054' 'English' 'USA' '237000000' '2009' '936' '7.9' '1.78' '33000']\n",
      "adding movieID = 1 to genre bucket 0\n"
     ]
    },
    {
     "ename": "KeyError",
     "evalue": "'0'",
     "output_type": "error",
     "traceback": [
      "\u001b[0;31m---------------------------------------------------------------------------\u001b[0m",
      "\u001b[0;31mKeyError\u001b[0m                                  Traceback (most recent call last)",
      "\u001b[0;32m<ipython-input-6-02d4ff37b5cb>\u001b[0m in \u001b[0;36m<module>\u001b[0;34m()\u001b[0m\n\u001b[1;32m      6\u001b[0m     \u001b[0;32mfor\u001b[0m \u001b[0mgenre\u001b[0m \u001b[0;32min\u001b[0m \u001b[0mlocalGenres\u001b[0m\u001b[0;34m:\u001b[0m\u001b[0;34m\u001b[0m\u001b[0m\n\u001b[1;32m      7\u001b[0m         \u001b[0;32mprint\u001b[0m \u001b[0;34m\"adding movieID = %s to genre bucket %s\"\u001b[0m \u001b[0;34m%\u001b[0m \u001b[0;34m(\u001b[0m\u001b[0mmovie\u001b[0m\u001b[0;34m[\u001b[0m\u001b[0;36m0\u001b[0m\u001b[0;34m]\u001b[0m\u001b[0;34m,\u001b[0m \u001b[0mgenre\u001b[0m\u001b[0;34m)\u001b[0m\u001b[0;34m\u001b[0m\u001b[0m\n\u001b[0;32m----> 8\u001b[0;31m         \u001b[0mmoviesByGenreBucket\u001b[0m\u001b[0;34m[\u001b[0m\u001b[0mgenre\u001b[0m\u001b[0;34m]\u001b[0m\u001b[0;34m.\u001b[0m\u001b[0mappend\u001b[0m\u001b[0;34m(\u001b[0m\u001b[0mmovie\u001b[0m\u001b[0;34m[\u001b[0m\u001b[0;36m0\u001b[0m\u001b[0;34m]\u001b[0m\u001b[0;34m)\u001b[0m\u001b[0;34m\u001b[0m\u001b[0m\n\u001b[0m\u001b[1;32m      9\u001b[0m \u001b[0;34m\u001b[0m\u001b[0m\n\u001b[1;32m     10\u001b[0m     \u001b[0;31m# one hot coding for color feature\u001b[0m\u001b[0;34m\u001b[0m\u001b[0;34m\u001b[0m\u001b[0m\n",
      "\u001b[0;31mKeyError\u001b[0m: '0'"
     ]
    }
   ],
   "source": [
    "# buckets movieIDs into genre buckets\n",
    "# begins one hot coding for color feature\n",
    "for movie in movieData:    \n",
    "    print movie\n",
    "    localGenres = string.split(movie[10], \"|\")\n",
    "    for genre in localGenres:\n",
    "        print \"adding movieID = %s to genre bucket %s\" % (movie[0], genre)\n",
    "        moviesByGenreBucket[genre].append(movie[0])\n",
    "    \n",
    "    # one hot coding for color feature\n",
    "    if movie[1] == 'Color':\n",
    "        movie[1] = 1\n",
    "    else:\n",
    "        movie[1] = 0"
   ]
  },
  {
   "cell_type": "code",
   "execution_count": null,
   "metadata": {
    "collapsed": false
   },
   "outputs": [],
   "source": [
    "#for key in moviesByGenreBucket.keys():\n",
    "    #print \"%s = %s\" % (key, len(moviesByGenreBucket[key]))\n",
    "\n",
    "#print moviesByGenreBucket['Game-Show']\n",
    "#movieData[0:113, 1]"
   ]
  },
  {
   "cell_type": "code",
   "execution_count": null,
   "metadata": {
    "collapsed": false
   },
   "outputs": [],
   "source": [
    "# remove cols like names\n",
    "movieData = np.delete(movieData, [2, 7, 10, 11, 12, 15, 17, 18, 22], 1)\n",
    "print movieData.shape\n",
    "print "
   ]
  },
  {
   "cell_type": "code",
   "execution_count": null,
   "metadata": {
    "collapsed": false
   },
   "outputs": [],
   "source": [
    "# Split data into Test, Train\n",
    "dataSplitRate = 0.7\n",
    "numSamples = int(math.floor(numMovies * dataSplitRate))\n",
    "train = movieData[:numSamples]\n",
    "test = movieData[numSamples:]\n",
    "trainX = np.delete(train, 26, axis=1)\n",
    "trainY = train[:,26]\n",
    "testX = np.delete(test, 26, axis=1)\n",
    "testY = test[:,26]"
   ]
  },
  {
   "cell_type": "code",
   "execution_count": null,
   "metadata": {
    "collapsed": false
   },
   "outputs": [],
   "source": [
    "# linear regression\n",
    "regr = linear_model.LinearRegression()\n",
    "regr.fit(trainX, trainY)"
   ]
  },
  {
   "cell_type": "code",
   "execution_count": null,
   "metadata": {
    "collapsed": false
   },
   "outputs": [],
   "source": [
    "arr = np.array([[1, 2, 3],[4, 5, 6], [7, 8, 9]])\n",
    "print (arr)\n",
    "print np.delete(arr, [0,2], 1)"
   ]
  },
  {
   "cell_type": "code",
   "execution_count": null,
   "metadata": {
    "collapsed": true
   },
   "outputs": [],
   "source": []
  },
  {
   "cell_type": "code",
   "execution_count": null,
   "metadata": {
    "collapsed": true
   },
   "outputs": [],
   "source": []
  },
  {
   "cell_type": "code",
   "execution_count": null,
   "metadata": {
    "collapsed": true
   },
   "outputs": [],
   "source": []
  },
  {
   "cell_type": "code",
   "execution_count": null,
   "metadata": {
    "collapsed": true
   },
   "outputs": [],
   "source": []
  }
 ],
 "metadata": {
  "anaconda-cloud": {},
  "kernelspec": {
   "display_name": "Python 2",
   "language": "python",
   "name": "python2"
  },
  "language_info": {
   "codemirror_mode": {
    "name": "ipython",
    "version": 2
   },
   "file_extension": ".py",
   "mimetype": "text/x-python",
   "name": "python",
   "nbconvert_exporter": "python",
   "pygments_lexer": "ipython2",
   "version": "2.7.11"
  }
 },
 "nbformat": 4,
 "nbformat_minor": 0
}
