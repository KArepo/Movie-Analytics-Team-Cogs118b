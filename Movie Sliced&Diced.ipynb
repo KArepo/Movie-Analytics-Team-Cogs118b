{
 "cells": [
  {
   "cell_type": "code",
   "execution_count": 1,
   "metadata": {
    "collapsed": true
   },
   "outputs": [],
   "source": [
    "import numpy as np\n",
    "from StringIO import StringIO\n",
    "import string"
   ]
  },
  {
   "cell_type": "code",
   "execution_count": 57,
   "metadata": {
    "collapsed": false
   },
   "outputs": [
    {
     "name": "stdout",
     "output_type": "stream",
     "text": [
      "5041\n"
     ]
    }
   ],
   "source": [
    "data = np.genfromtxt('movie_metadata_copy_Kay_edited.csv', dtype=None, delimiter=',', autostrip=True)\n",
    "colNames = data[0,:]\n",
    "movieData = np.delete(data, (0), axis=0)\n",
    "numMovies = movieData.shape[0]\n",
    "print numMovies "
   ]
  },
  {
   "cell_type": "code",
   "execution_count": 64,
   "metadata": {
    "collapsed": false
   },
   "outputs": [],
   "source": [
    "genres = {'Action', 'Adventure','Animation','Biography','Comedy','Crime','Documentary','Drama','Family','Fantasy',\n",
    "          'Film-Noir','Game-Show','History','Horror','Music','Musical','Mystery','News','Reality-TV','Romance','Sci-Fi',\n",
    "          'Short','Sport','Thriller','War','Western'}\n",
    "\n",
    "moviesByGenreBucket = {}\n",
    "\n",
    "for genre in genres:\n",
    "    moviesByGenreBucket[genre] = []\n",
    "    "
   ]
  },
  {
   "cell_type": "code",
   "execution_count": 65,
   "metadata": {
    "collapsed": false,
    "scrolled": false
   },
   "outputs": [],
   "source": [
    "for movie in movieData:\n",
    "    localGenres = string.split(movie[10], \"|\")\n",
    "    for genre in localGenres:\n",
    "        #print \"adding movieID = %s to genre bucket %s\" % (movie[0], genre)\n",
    "        moviesByGenreBucket[genre].append(movie[0])"
   ]
  },
  {
   "cell_type": "code",
   "execution_count": 66,
   "metadata": {
    "collapsed": false
   },
   "outputs": [
    {
     "name": "stdout",
     "output_type": "stream",
     "text": [
      "Sci-Fi = 616\n",
      "Crime = 889\n",
      "Romance = 1107\n",
      "Animation = 242\n",
      "Music = 214\n",
      "Comedy = 1872\n",
      "War = 212\n",
      "Horror = 564\n",
      "Film-Noir = 6\n",
      "Western = 97\n",
      "News = 3\n",
      "Reality-TV = 2\n",
      "Thriller = 1409\n",
      "Adventure = 922\n",
      "Mystery = 499\n",
      "Short = 5\n",
      "Drama = 2592\n",
      "Action = 1153\n",
      "Documentary = 121\n",
      "Musical = 132\n",
      "History = 206\n",
      "Family = 546\n",
      "Fantasy = 610\n",
      "Game-Show = 1\n",
      "Sport = 182\n",
      "Biography = 293\n"
     ]
    }
   ],
   "source": [
    "for key in moviesByGenreBucket.keys():\n",
    "    print \"%s = %s\" % (key, len(moviesByGenreBucket[key]))\n"
   ]
  },
  {
   "cell_type": "code",
   "execution_count": 61,
   "metadata": {
    "collapsed": false
   },
   "outputs": [
    {
     "name": "stdout",
     "output_type": "stream",
     "text": [
      "['2144']\n"
     ]
    }
   ],
   "source": [
    "print moviesByGenreBucket['Game-Show']"
   ]
  },
  {
   "cell_type": "code",
   "execution_count": 63,
   "metadata": {
    "collapsed": false
   },
   "outputs": [
    {
     "data": {
      "text/plain": [
       "array(['2144', 'Color', '', '5', '60', '', '', '', '98', '',\n",
       "       'Game-Show|Reality-TV|Romance', 'Chris Harrison',\n",
       "       '\"\"\"The Bachelor            \"\"\"', '4398', '98', '', '0',\n",
       "       'bachelor|seeking love|single guy|tv host|women rivals for man',\n",
       "       'http://www.imdb.com/title/tt0313038/?ref_=fn_tt_tt_1', '33',\n",
       "       'English', 'USA', '', '3000000', '', '', '2.9', '', '141'], \n",
       "      dtype='|S149')"
      ]
     },
     "execution_count": 63,
     "metadata": {},
     "output_type": "execute_result"
    }
   ],
   "source": [
    "movieData[2143]"
   ]
  },
  {
   "cell_type": "code",
   "execution_count": null,
   "metadata": {
    "collapsed": true
   },
   "outputs": [],
   "source": []
  }
 ],
 "metadata": {
  "kernelspec": {
   "display_name": "Python 2",
   "language": "python",
   "name": "python2"
  },
  "language_info": {
   "codemirror_mode": {
    "name": "ipython",
    "version": 2
   },
   "file_extension": ".py",
   "mimetype": "text/x-python",
   "name": "python",
   "nbconvert_exporter": "python",
   "pygments_lexer": "ipython2",
   "version": "2.7.11"
  }
 },
 "nbformat": 4,
 "nbformat_minor": 0
}
