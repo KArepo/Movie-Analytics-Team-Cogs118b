{
 "cells": [
  {
   "cell_type": "code",
   "execution_count": 75,
   "metadata": {
    "collapsed": true
   },
   "outputs": [],
   "source": [
    "import numpy as np\n",
    "from StringIO import StringIO\n",
    "import string"
   ]
  },
  {
   "cell_type": "code",
   "execution_count": 76,
   "metadata": {
    "collapsed": false
   },
   "outputs": [
    {
     "name": "stdout",
     "output_type": "stream",
     "text": [
      "5041\n"
     ]
    }
   ],
   "source": [
    "data = np.genfromtxt('movie_metadata.csv', dtype=None, delimiter=',', autostrip=True)\n",
    "colNames = data[0,:]\n",
    "movieData = np.delete(data, (0), axis=0)\n",
    "numMovies = movieData.shape[0]\n",
    "print numMovies "
   ]
  },
  {
   "cell_type": "code",
   "execution_count": 77,
   "metadata": {
    "collapsed": false
   },
   "outputs": [],
   "source": [
    "genres = {'Action', 'Adventure','Animation','Biography','Comedy','Crime','Documentary','Drama','Family','Fantasy',\n",
    "          'Film-Noir','Game-Show','History','Horror','Music','Musical','Mystery','News','Reality-TV','Romance','Sci-Fi',\n",
    "          'Short','Sport','Thriller','War','Western'}\n",
    "\n",
    "moviesByGenreBucket = {}\n",
    "\n",
    "for genre in genres:\n",
    "    moviesByGenreBucket[genre] = []\n",
    "    "
   ]
  },
  {
   "cell_type": "code",
   "execution_count": 78,
   "metadata": {
    "collapsed": false,
    "scrolled": false
   },
   "outputs": [
    {
     "ename": "KeyError",
     "evalue": "'CCH Pounder'",
     "output_type": "error",
     "traceback": [
      "\u001b[0;31m---------------------------------------------------------------------------\u001b[0m",
      "\u001b[0;31mKeyError\u001b[0m                                  Traceback (most recent call last)",
      "\u001b[0;32m<ipython-input-78-8dbd76a593be>\u001b[0m in \u001b[0;36m<module>\u001b[0;34m()\u001b[0m\n\u001b[1;32m      3\u001b[0m     \u001b[0;32mfor\u001b[0m \u001b[0mgenre\u001b[0m \u001b[0;32min\u001b[0m \u001b[0mlocalGenres\u001b[0m\u001b[0;34m:\u001b[0m\u001b[0;34m\u001b[0m\u001b[0m\n\u001b[1;32m      4\u001b[0m         \u001b[0;31m#print \"adding movieID = %s to genre bucket %s\" % (movie[0], genre)\u001b[0m\u001b[0;34m\u001b[0m\u001b[0;34m\u001b[0m\u001b[0m\n\u001b[0;32m----> 5\u001b[0;31m         \u001b[0mmoviesByGenreBucket\u001b[0m\u001b[0;34m[\u001b[0m\u001b[0mgenre\u001b[0m\u001b[0;34m]\u001b[0m\u001b[0;34m.\u001b[0m\u001b[0mappend\u001b[0m\u001b[0;34m(\u001b[0m\u001b[0mmovie\u001b[0m\u001b[0;34m[\u001b[0m\u001b[0;36m0\u001b[0m\u001b[0;34m]\u001b[0m\u001b[0;34m)\u001b[0m\u001b[0;34m\u001b[0m\u001b[0m\n\u001b[0m",
      "\u001b[0;31mKeyError\u001b[0m: 'CCH Pounder'"
     ]
    }
   ],
   "source": [
    "for movie in movieData:\n",
    "    localGenres = string.split(movie[10], \"|\")\n",
    "    for genre in localGenres:\n",
    "        #print \"adding movieID = %s to genre bucket %s\" % (movie[0], genre)\n",
    "        moviesByGenreBucket[genre].append(movie[0])"
   ]
  },
  {
   "cell_type": "code",
   "execution_count": 79,
   "metadata": {
    "collapsed": false
   },
   "outputs": [
    {
     "name": "stdout",
     "output_type": "stream",
     "text": [
      "Sci-Fi = 0\n",
      "Crime = 0\n",
      "Romance = 0\n",
      "Animation = 0\n",
      "Music = 0\n",
      "Comedy = 0\n",
      "War = 0\n",
      "Horror = 0\n",
      "Film-Noir = 0\n",
      "Western = 0\n",
      "News = 0\n",
      "Reality-TV = 0\n",
      "Thriller = 0\n",
      "Adventure = 0\n",
      "Mystery = 0\n",
      "Short = 0\n",
      "Drama = 0\n",
      "Action = 0\n",
      "Documentary = 0\n",
      "Musical = 0\n",
      "History = 0\n",
      "Family = 0\n",
      "Fantasy = 0\n",
      "Game-Show = 0\n",
      "Sport = 0\n",
      "Biography = 0\n"
     ]
    }
   ],
   "source": [
    "for key in moviesByGenreBucket.keys():\n",
    "    print \"%s = %s\" % (key, len(moviesByGenreBucket[key]))\n"
   ]
  },
  {
   "cell_type": "code",
   "execution_count": 80,
   "metadata": {
    "collapsed": false
   },
   "outputs": [
    {
     "name": "stdout",
     "output_type": "stream",
     "text": [
      "[]\n"
     ]
    }
   ],
   "source": [
    "print moviesByGenreBucket['Game-Show']"
   ]
  },
  {
   "cell_type": "code",
   "execution_count": 81,
   "metadata": {
    "collapsed": false
   },
   "outputs": [
    {
     "data": {
      "text/plain": [
       "array(['Color', '', '5', '60', '', '', '', '98', '',\n",
       "       'Game-Show|Reality-TV|Romance', 'Chris Harrison',\n",
       "       '\"\"\"The Bachelor            \"\"\"', '4398', '98', '', '0',\n",
       "       'bachelor|seeking love|single guy|tv host|women rivals for man',\n",
       "       'http://www.imdb.com/title/tt0313038/?ref_=fn_tt_tt_1', '33',\n",
       "       'English', 'USA', '', '3000000', '', '', '2.9', '', '141'], \n",
       "      dtype='|S149')"
      ]
     },
     "execution_count": 81,
     "metadata": {},
     "output_type": "execute_result"
    }
   ],
   "source": [
    "movieData[2143]"
   ]
  },
  {
   "cell_type": "code",
   "execution_count": null,
   "metadata": {
    "collapsed": true
   },
   "outputs": [],
   "source": []
  }
 ],
 "metadata": {
  "kernelspec": {
   "display_name": "Python 2",
   "language": "python",
   "name": "python2"
  },
  "language_info": {
   "codemirror_mode": {
    "name": "ipython",
    "version": 2
   },
   "file_extension": ".py",
   "mimetype": "text/x-python",
   "name": "python",
   "nbconvert_exporter": "python",
   "pygments_lexer": "ipython2",
   "version": "2.7.11"
  }
 },
 "nbformat": 4,
 "nbformat_minor": 0
}
