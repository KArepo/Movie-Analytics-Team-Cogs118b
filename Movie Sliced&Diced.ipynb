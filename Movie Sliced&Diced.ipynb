{
 "cells": [
  {
   "cell_type": "code",
   "execution_count": 112,
   "metadata": {
    "collapsed": false
   },
   "outputs": [],
   "source": [
    "import numpy as np\n",
    "from StringIO import StringIO\n",
    "import string\n",
    "import scipy \n",
    "from sklearn import datasets, linear_model\n",
    "import math\n",
    "import matplotlib.pyplot as plt\n",
    "from sklearn import svm"
   ]
  },
  {
   "cell_type": "code",
   "execution_count": 100,
   "metadata": {
    "collapsed": false
   },
   "outputs": [
    {
     "name": "stdout",
     "output_type": "stream",
     "text": [
      "3756\n",
      "19\n"
     ]
    }
   ],
   "source": [
    "# this imports our data\n",
    "data = np.genfromtxt('movie_metadata_sanitized.csv', dtype=None, delimiter=',', autostrip=True)\n",
    "\n",
    "# this is the uncropped data set\n",
    "fullDataSet = data\n",
    "\n",
    "# this chops out the director name, actor 2 name, actor 1 name, movie Title, actor 3 name, plot keywords,\n",
    "# movie imbd link, language, country, content rating\n",
    "data = np.delete(data, [2, 7, 11, 12, 15, 17, 18, 20, 21, 22], 1)\n",
    "\n",
    "# reducing \"data\" matrix to only numeric data \n",
    "onlyNumericData  = np.delete(data, [1,10,12,13], 1)\n",
    "\n",
    "#vector containing feature names \n",
    "colNames = data[0,:]\n",
    "\n",
    "# cuts out feature label row\n",
    "movieData = np.delete(data, (0), axis=0)\n",
    "\n",
    "# finds length,numMovies, and width,numFeatures, of dataset and prints\n",
    "numMovies = movieData.shape[0]\n",
    "numFeatures = movieData.shape[1]\n",
    "print numMovies \n",
    "print numFeatures"
   ]
  },
  {
   "cell_type": "code",
   "execution_count": 101,
   "metadata": {
    "collapsed": false
   },
   "outputs": [],
   "source": [
    "# This function provides an easy way of indexing our data set. \n",
    "\n",
    "#The arguments are the movieID, the feature you want or 0 for all features , followed by a boolean 1 or 0 for \n",
    "# the cropped data set \"data\" or the uncropped data set \"fullDataSet\"\n",
    "\n",
    "#\n",
    "# example function calls are: easydex(112,'movieID',1)  \n",
    "#         This returns the 112 movie's movieID which is 112. \n",
    "# example function calls are: easydex(460,0,1)\n",
    "#         This gives all the data on the 460th movie. \n",
    "# example function calls are: easydex(460,0,0)\n",
    "#         This gives all the data on the 460th movie from the \"fullDataSet\" \n",
    "#         instead of the cropped \"data\" matrix.\n",
    "\n",
    "def easydex(MovieRow, FeatureString, selectDataSet):\n",
    "    \n",
    "    if selectDataSet == 1:\n",
    "        dataSet = data\n",
    "    elif selectDataSet == 2:\n",
    "        dataSet = onlyNumericData \n",
    "    else: \n",
    "        dataSet = fullDataSet\n",
    "    \n",
    "    MovieRow = MovieRow -1\n",
    "    my_data_dict= {}\n",
    "   \n",
    "    col_names = dataSet[0,:]\n",
    "   \n",
    "    # returns specific feature for a specific movie\n",
    "    if FeatureString != 0:\n",
    "        for l in range(0,numFeatures):\n",
    "            my_data_dict[col_names[l]]= dataSet[1:,l]\n",
    "   \n",
    "        example1 = my_data_dict[FeatureString]\n",
    "        return[example1[MovieRow]]\n",
    "    \n",
    "    #returns whole row for a specific movie\n",
    "    else:\n",
    "        my_data_neat_index = dataSet[1:,:]\n",
    "        myMovieSample = my_data_neat_index[MovieRow,:]\n",
    "        return myMovieSample"
   ]
  },
  {
   "cell_type": "code",
   "execution_count": 102,
   "metadata": {
    "collapsed": false
   },
   "outputs": [],
   "source": [
    "genres = {'Action', 'Adventure','Animation','Biography','Comedy','Crime','Documentary','Drama','Family','Fantasy',\n",
    "          'Film-Noir','Game-Show','History','Horror','Music','Musical','Mystery','News','Reality-TV','Romance','Sci-Fi',\n",
    "          'Short','Sport','Thriller','War','Western'}\n",
    "\n",
    "moviesByGenreBucket = {}\n",
    "\n",
    "for genre in genres:\n",
    "    moviesByGenreBucket[genre] = []"
   ]
  },
  {
   "cell_type": "code",
   "execution_count": 103,
   "metadata": {
    "collapsed": false,
    "scrolled": false
   },
   "outputs": [],
   "source": [
    "# buckets movieIDs into genre buckets\n",
    "for movie in movieData:    \n",
    "    localGenres = string.split(movie[8], \"|\")\n",
    "    for genre in localGenres:\n",
    "        #print \"adding movieID = %s to genre bucket %s\" % (movie[0], genre)\n",
    "        moviesByGenreBucket[genre].append(movie[0])\n",
    "    \n",
    "    # one hot coding for color feature\n",
    "    if movie[1] == 'Color':\n",
    "        movie[1] = 1\n",
    "    else:\n",
    "        movie[1] = 0\n",
    "\n",
    "# remove genre column now that we have consumed it\n",
    "movieData = np.delete(movieData, 8, 1)\n",
    "\n",
    "# cast dytpe to float\n",
    "movieData = movieData.astype(np.float)"
   ]
  },
  {
   "cell_type": "code",
   "execution_count": 131,
   "metadata": {
    "collapsed": false
   },
   "outputs": [
    {
     "data": {
      "text/plain": [
       "array([[-0.94648502,  0.18477275,  0.3452948 , ..., -0.06181407,\n",
       "         0.67697286, -0.43587211],\n",
       "       [ 0.51048827,  0.18477275,  1.89266032, ...,  0.69568556,\n",
       "         0.67697286,  1.98723707],\n",
       "       [-0.99628972,  0.18477275, -0.54585813, ..., -1.57681331,\n",
       "         0.67697286, -0.40842574],\n",
       "       ..., \n",
       "       [ 0.51866517,  0.18477275, -0.14889001, ...,  2.40005971,\n",
       "        -0.73937356,  0.21650344],\n",
       "       [-1.26315371,  0.18477275,  1.7468353 , ...,  0.03287339,\n",
       "         0.67697286,  2.17363008],\n",
       "       [-1.15908419,  0.18477275, -0.76459566, ..., -1.10337605,\n",
       "        -0.73937356, -0.40353292]])"
      ]
     },
     "execution_count": 131,
     "metadata": {},
     "output_type": "execute_result"
    }
   ],
   "source": [
    "# Zscore my data\n",
    "stats.zscore(movieData, axis=0)"
   ]
  },
  {
   "cell_type": "code",
   "execution_count": 132,
   "metadata": {
    "collapsed": false
   },
   "outputs": [],
   "source": [
    "# Split data into Test, Train\n",
    "dataSplitRate = 0.7\n",
    "numSamples = int(math.floor(numMovies * dataSplitRate))\n",
    "np.random.shuffle(movieData)\n",
    "train = movieData[:numSamples]\n",
    "test = movieData[numSamples:]\n",
    "trainX = np.delete(train, 15, axis=1)\n",
    "trainY = train[:,15]\n",
    "testX = np.delete(test, 15, axis=1)\n",
    "testY = test[:,15]"
   ]
  },
  {
   "cell_type": "code",
   "execution_count": 133,
   "metadata": {
    "collapsed": false,
    "scrolled": true
   },
   "outputs": [
    {
     "name": "stdout",
     "output_type": "stream",
     "text": [
      "('Coefficients: \\n', array([  1.98206735e-04,  -2.91185561e-01,   2.59787335e-03,\n",
      "         1.25826444e-02,   6.34425387e-06,   8.25016949e-05,\n",
      "         8.06577792e-05,  -2.40664334e-10,   3.74387112e-06,\n",
      "        -7.93563345e-05,  -1.28576197e-02,  -6.47933488e-04,\n",
      "         1.53528494e-11,  -1.52241424e-02,   8.33588937e-05,\n",
      "         1.15513711e-02,  -3.86439434e-06]))\n",
      "Linear Regrssion Model RMSE : 0.85\n",
      "Linear Regrssion Model RMSE : 709.08\n",
      "Naive model RMSE: 0.05\n",
      "R^2 score: 0.41\n"
     ]
    }
   ],
   "source": [
    "# linear regression\n",
    "regr = linear_model.LinearRegression()\n",
    "regr.fit(trainX, trainY)\n",
    "\n",
    "# The coefficients\n",
    "print('Coefficients: \\n', regr.coef_)\n",
    "\n",
    "# The mean squared error\n",
    "print(\"Linear Regrssion Model RMSE : %.2f\"\n",
    "      % math.sqrt(np.mean((regr.predict(testX) - testY) ** 2)))\n",
    "\n",
    "# use L1 Norm\n",
    "print(\"Linear Regrssion Model RMSE : %.2f\"\n",
    "      % math.sqrt(np.mean((scipy.spatial.distance.cityblock(regr.predict(testX), testY)) ** 2)))\n",
    "\n",
    "\n",
    "# Error of model that naively guesses the mean \n",
    "print (\"Naive model RMSE: %.2f\"\n",
    "       % math.sqrt(np.mean(testY - np.mean(trainY)) ** 2))\n",
    "\n",
    "# Explained variance score: 1 is perfect prediction (r^2)\n",
    "print('R^2 score: %.2f' % regr.score(testX, testY))\n",
    "\n",
    "# Linear Regrssion Model RMSE : 0.83\n",
    "# Naive model RMSE: 0.07\n",
    "# R^2 score: 0.38"
   ]
  },
  {
   "cell_type": "code",
   "execution_count": 134,
   "metadata": {
    "collapsed": false
   },
   "outputs": [],
   "source": [
    "# SVM\n",
    "#clf = svm.SVC()\n",
    "#clf.fit(trainX, trainY)"
   ]
  },
  {
   "cell_type": "code",
   "execution_count": 135,
   "metadata": {
    "collapsed": false
   },
   "outputs": [
    {
     "name": "stdout",
     "output_type": "stream",
     "text": [
      "(17, 17)\n",
      "[[  1.81849930e+06  -2.20171851e+01  -5.09057372e+04  -8.32480577e+03\n",
      "   -4.74375373e+05  -4.42992632e+05  -3.00921678e+06  -4.44460438e+10\n",
      "   -6.18996854e+07  -5.04220338e+06   3.84017657e+00  -1.55435003e+05\n",
      "   -3.37919477e+10  -2.45122714e+03  -1.20008043e+06  -9.77948021e+01\n",
      "   -4.96349021e+06]\n",
      " [ -2.20171851e+01   3.09421955e-02   2.18556575e-02  -1.67693152e-01\n",
      "   -2.99351829e+01   4.94263087e+00   7.32301743e+01   6.00703024e+05\n",
      "   -7.46644891e+02   9.26558204e+01  -2.50831812e-03  -5.10398940e+00\n",
      "    7.61952601e+05   3.29681292e-01   7.31715707e+00   5.00019974e-03\n",
      "    5.44926079e+01]\n",
      " [ -5.09057372e+04   2.18556575e-02   1.49743450e+04   6.71281859e+02\n",
      "    6.89174645e+04   5.56255153e+04   3.04080925e+05   3.82827571e+09\n",
      "    1.09625236e+07   5.29936290e+05  -9.00828642e+00   2.78897398e+04\n",
      "    3.16267122e+09   5.00861844e+02   1.37482188e+05   8.03328664e+00\n",
      "    1.76853614e+06]\n",
      " [ -8.32480577e+03  -1.67693152e-01   6.71281859e+02   4.79706816e+02\n",
      "    1.27458808e+04   5.24350630e+03   2.59288940e+04   3.70195377e+08\n",
      "    1.12388838e+06   4.77794560e+04   1.11833979e+00   3.10520733e+03\n",
      "    3.51935322e+08  -2.10212133e+01   1.32501253e+04   1.21910144e+00\n",
      "    9.68505341e+04]\n",
      " [ -4.74375373e+05  -2.99351829e+01   6.89174645e+04   1.27458808e+04\n",
      "    9.29425784e+06   7.41343120e+05   4.01484783e+06   3.03734515e+10\n",
      "    1.48655115e+08   6.78960612e+06  -2.83583558e+02   2.98895474e+05\n",
      "    8.86219593e+09  -1.56807536e+03   1.75773068e+06   3.61121990e+01\n",
      "    1.14834558e+07]\n",
      " [ -4.42992632e+05   4.94263087e+00   5.56255153e+04   5.24350630e+03\n",
      "    7.41343120e+05   3.26819832e+06   7.51300712e+06   3.41838809e+10\n",
      "    7.66332275e+07   1.66636042e+07   4.96466492e+02   1.53288711e+05\n",
      "    1.19511171e+10   1.95640163e+03   4.35774415e+06   3.33509851e+01\n",
      "    9.60148362e+06]\n",
      " [ -3.00921678e+06   7.32301743e+01   3.04080925e+05   2.59288940e+04\n",
      "    4.01484783e+06   7.51300712e+06   2.97433583e+08   1.55315360e+11\n",
      "    4.22029812e+08   3.38211322e+08   2.49050700e+03   7.61699146e+05\n",
      "    3.15568845e+10   1.35147981e+04   2.91719663e+07   2.68984626e+02\n",
      "    3.82021379e+07]\n",
      " [ -4.44460438e+10   6.00703024e+05   3.82827571e+09   3.70195377e+08\n",
      "    3.03734515e+10   3.41838809e+10   1.55315360e+11   4.66622762e+15\n",
      "    6.36358461e+12   2.92332742e+11  -1.95120780e+06   1.46256593e+10\n",
      "    1.43934114e+15   4.11867396e+07   7.08491508e+10   1.75733681e+06\n",
      "    4.73549572e+11]\n",
      " [ -6.18996854e+07  -7.46644891e+02   1.09625236e+07   1.12388838e+06\n",
      "    1.48655115e+08   7.66332275e+07   4.22029812e+08   6.36358461e+12\n",
      "    2.22968849e+10   7.05922337e+08  -9.15963801e+03   4.61083026e+07\n",
      "    2.06103371e+12   4.79092344e+04   1.63415110e+08   4.67332758e+03\n",
      "    1.63495090e+09]\n",
      " [ -5.04220338e+06   9.26558204e+01   5.29936290e+05   4.77794560e+04\n",
      "    6.78960612e+06   1.66636042e+07   3.38211322e+08   2.92332742e+11\n",
      "    7.05922337e+08   4.22362299e+08   4.08992377e+03   1.33705756e+06\n",
      "    7.84632179e+10   2.21884723e+04   5.77321429e+07   4.19913588e+02\n",
      "    7.35939533e+07]\n",
      " [  3.84017657e+00  -2.50831812e-03  -9.00828642e+00   1.11833979e+00\n",
      "   -2.83583558e+02   4.96466492e+02   2.49050700e+03  -1.95120780e+06\n",
      "   -9.15963801e+03   4.08992377e+03   4.12536148e+00  -6.74078318e+01\n",
      "   -1.08053532e+07   1.23009715e+00   7.87139263e+02   1.19016091e-02\n",
      "    7.79037799e+02]\n",
      " [ -1.55435003e+05  -5.10398940e+00   2.78897398e+04   3.10520733e+03\n",
      "    2.98895474e+05   1.53288711e+05   7.61699146e+05   1.46256593e+10\n",
      "    4.61083026e+07   1.33705756e+06  -6.74078318e+01   1.60016684e+05\n",
      "    6.09749958e+09   9.30200215e+01   3.25014773e+05   1.33084084e+01\n",
      "    2.95282498e+06]\n",
      " [ -3.37919477e+10   7.61952601e+05   3.16267122e+09   3.51935322e+08\n",
      "    8.86219593e+09   1.19511171e+10   3.15568845e+10   1.43934114e+15\n",
      "    2.06103371e+12   7.84632179e+10  -1.08053532e+07   6.09749958e+09\n",
      "    6.93545903e+16   1.09568821e+08   2.69971110e+10   1.91459983e+06\n",
      "    2.20903732e+11]\n",
      " [ -2.45122714e+03   3.29681292e-01   5.00861844e+02  -2.10212133e+01\n",
      "   -1.56807536e+03   1.95640163e+03   1.35147981e+04   4.11867396e+07\n",
      "    4.79092344e+04   2.21884723e+04   1.23009715e+00   9.30200215e+01\n",
      "    1.09568821e+08   9.62469745e+01   5.28720232e+03   8.09059153e-01\n",
      "    6.23491067e+04]\n",
      " [ -1.20008043e+06   7.31715707e+00   1.37482188e+05   1.32501253e+04\n",
      "    1.75773068e+06   4.35774415e+06   2.91719663e+07   7.08491508e+10\n",
      "    1.63415110e+08   5.77321429e+07   7.87139263e+02   3.25014773e+05\n",
      "    2.69971110e+10   5.28720232e+03   2.18411864e+07   9.79755496e+01\n",
      "    2.03820865e+07]\n",
      " [ -9.77948021e+01   5.00019974e-03   8.03328664e+00   1.21910144e+00\n",
      "    3.61121990e+01   3.33509851e+01   2.68984626e+02   1.75733681e+06\n",
      "    4.67332758e+03   4.19913588e+02   1.19016091e-02   1.33084084e+01\n",
      "    1.91459983e+06   8.09059153e-01   9.79755496e+01   1.46547244e-01\n",
      "    8.38931977e+02]\n",
      " [ -4.96349021e+06   5.44926079e+01   1.76853614e+06   9.68505341e+04\n",
      "    1.14834558e+07   9.60148362e+06   3.82021379e+07   4.73549572e+11\n",
      "    1.63495090e+09   7.35939533e+07   7.79037799e+02   2.95282498e+06\n",
      "    2.20903732e+11   6.23491067e+04   2.03820865e+07   8.38931977e+02\n",
      "    4.30680140e+08]]\n"
     ]
    }
   ],
   "source": [
    "cov = np.cov(trainX, rowvar = False)\n",
    "print cov.shape\n",
    "print cov"
   ]
  },
  {
   "cell_type": "code",
   "execution_count": 130,
   "metadata": {
    "collapsed": false
   },
   "outputs": [
    {
     "name": "stdout",
     "output_type": "stream",
     "text": [
      "0.603828151899\n",
      "0.491688009513\n"
     ]
    }
   ],
   "source": [
    "sum1 = 0\n",
    "sum2 = 0\n",
    "for indx in np.arange(testX.shape[0]):\n",
    "    sum1 += scipy.spatial.distance.cityblock(regr.predict(testX)[indx], testY[indx])\n",
    "    sum2 += scipy.spatial.distance.cityblock(regr.predict(testX)[indx], np.mean(trainY))\n",
    "print sum1/testX.shape[0]\n",
    "print sum2/testX.shape[0]"
   ]
  },
  {
   "cell_type": "code",
   "execution_count": null,
   "metadata": {
    "collapsed": true
   },
   "outputs": [],
   "source": []
  }
 ],
 "metadata": {
  "anaconda-cloud": {},
  "kernelspec": {
   "display_name": "Python 2",
   "language": "python",
   "name": "python2"
  },
  "language_info": {
   "codemirror_mode": {
    "name": "ipython",
    "version": 2
   },
   "file_extension": ".py",
   "mimetype": "text/x-python",
   "name": "python",
   "nbconvert_exporter": "python",
   "pygments_lexer": "ipython2",
   "version": "2.7.11"
  }
 },
 "nbformat": 4,
 "nbformat_minor": 0
}
