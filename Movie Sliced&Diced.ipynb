{
 "cells": [
  {
   "cell_type": "code",
   "execution_count": 16,
   "metadata": {
    "collapsed": true
   },
   "outputs": [],
   "source": [
    "import numpy as np"
   ]
  },
  {
   "cell_type": "code",
   "execution_count": 40,
   "metadata": {
    "collapsed": false
   },
   "outputs": [
    {
     "name": "stdout",
     "output_type": "stream",
     "text": [
      "(5042, 28)\n",
      "(26,)\n"
     ]
    }
   ],
   "source": [
    "my_data = np.genfromtxt('movie_metadata_copy_Kay_edited.csv', delimiter=',')\n",
    "print(my_data.shape)\n",
    "\n",
    "\n",
    "\n",
    "genreList = np.genfromtxt('Movie Genre.csv', delimiter=',')\n",
    "print(genreList.shape)\n"
   ]
  },
  {
   "cell_type": "code",
   "execution_count": 34,
   "metadata": {
    "collapsed": false
   },
   "outputs": [
    {
     "name": "stdout",
     "output_type": "stream",
     "text": [
      "[[    nan    723.    178.      0.]\n",
      " [    nan    302.    169.    563.]\n",
      " [    nan    602.    148.      0.]\n",
      " [    nan    813.    164.  22000.]]\n"
     ]
    }
   ],
   "source": [
    "print(my_data[1:5,1:5])"
   ]
  },
  {
   "cell_type": "code",
   "execution_count": 32,
   "metadata": {
    "collapsed": false
   },
   "outputs": [
    {
     "name": "stdout",
     "output_type": "stream",
     "text": [
      "nan\n",
      "nan\n",
      "nan\n",
      "nan\n",
      "nan\n",
      "nan\n",
      "nan\n",
      "nan\n",
      "nan\n",
      "nan\n",
      "nan\n",
      "nan\n",
      "nan\n",
      "nan\n",
      "nan\n",
      "nan\n",
      "nan\n",
      "nan\n",
      "nan\n",
      "nan\n",
      "nan\n",
      "nan\n",
      "nan\n",
      "nan\n",
      "nan\n",
      "nan\n"
     ]
    }
   ],
   "source": [
    "for i in range (0,26):\n",
    "    print(genreList[i])"
   ]
  },
  {
   "cell_type": "code",
   "execution_count": 20,
   "metadata": {
    "collapsed": false
   },
   "outputs": [
    {
     "ename": "NameError",
     "evalue": "name 'numMovies' is not defined",
     "output_type": "error",
     "traceback": [
      "\u001b[0;31m---------------------------------------------------------------------------\u001b[0m",
      "\u001b[0;31mNameError\u001b[0m                                 Traceback (most recent call last)",
      "\u001b[0;32m<ipython-input-20-2fd8d066dab0>\u001b[0m in \u001b[0;36m<module>\u001b[0;34m()\u001b[0m\n\u001b[1;32m     11\u001b[0m     \u001b[0;32mreturn\u001b[0m \u001b[0mnumMovies\u001b[0m\u001b[0;34m\u001b[0m\u001b[0m\n\u001b[1;32m     12\u001b[0m \u001b[0;34m\u001b[0m\u001b[0m\n\u001b[0;32m---> 13\u001b[0;31m \u001b[0;32mprint\u001b[0m\u001b[0;34m(\u001b[0m\u001b[0mnumMovies\u001b[0m\u001b[0;34m)\u001b[0m\u001b[0;34m\u001b[0m\u001b[0m\n\u001b[0m\u001b[1;32m     14\u001b[0m \u001b[0;34m\u001b[0m\u001b[0m\n",
      "\u001b[0;31mNameError\u001b[0m: name 'numMovies' is not defined"
     ]
    }
   ],
   "source": [
    "genresAllMovies = my_data[:,10]\n",
    "\n",
    "\n",
    "for every movie\n",
    "    for every genre for that movie\n",
    "        add my movieID to a list \n",
    "\n",
    "genreDict = {}\n",
    "\n",
    "\n",
    "\n",
    "    numMovies = genresAllMovies.size\n",
    "    \n",
    "    for i in range(0,numMovies):\n",
    "        genreString = numMovies[i]\n",
    "        genres=genreString.split(\"|\")\n",
    "        \n",
    "        \n",
    "        \n",
    "        \n",
    "        \n",
    "print(numMovies)\n",
    "    "
   ]
  },
  {
   "cell_type": "code",
   "execution_count": 35,
   "metadata": {
    "collapsed": false
   },
   "outputs": [
    {
     "data": {
      "text/plain": [
       "array([             nan,              nan,   7.23000000e+02,\n",
       "         1.78000000e+02,   0.00000000e+00,   8.55000000e+02,\n",
       "                    nan,   1.00000000e+03,   7.60505847e+08,\n",
       "                    nan,              nan,              nan,\n",
       "         8.86204000e+05,   4.83400000e+03,              nan,\n",
       "         0.00000000e+00,              nan,              nan,\n",
       "         3.05400000e+03,              nan,              nan,\n",
       "                    nan,   2.37000000e+08,   2.00900000e+03,\n",
       "         9.36000000e+02,   7.90000000e+00,   1.78000000e+00,\n",
       "         3.30000000e+04])"
      ]
     },
     "execution_count": 35,
     "metadata": {},
     "output_type": "execute_result"
    }
   ],
   "source": [
    "my_data[1,:]"
   ]
  },
  {
   "cell_type": "code",
   "execution_count": 45,
   "metadata": {
    "collapsed": false
   },
   "outputs": [
    {
     "name": "stdout",
     "output_type": "stream",
     "text": [
      "(5042, 28)\n"
     ]
    },
    {
     "data": {
      "text/plain": [
       "array(['Color', 'Gore Verbinski', '302', '169', '563', '1000',\n",
       "       'Orlando Bloom', '40000', '309404152', 'Action|Adventure|Fantasy',\n",
       "       'Johnny Depp', '\"\"\"Pirates of the Caribbean: At World\\'s End\"\"\"',\n",
       "       '471220', '48350', 'Jack Davenport', '0',\n",
       "       'goddess|marriage ceremony|marriage proposal|pirate|singapore',\n",
       "       'http://www.imdb.com/title/tt0449088/?ref_=fn_tt_tt_1', '1238',\n",
       "       'English', 'USA', 'PG-13', '300000000', '2007', '5000', '7.1',\n",
       "       '2.35', '0'], \n",
       "      dtype='|S149')"
      ]
     },
     "execution_count": 45,
     "metadata": {},
     "output_type": "execute_result"
    }
   ],
   "source": [
    "my_data = np.genfromtxt('movie_metadata_copy_Kay_edited.csv', dtype=None, delimiter=',')\n",
    "print(my_data.shape)\n",
    "\n",
    "my_data[2,:]"
   ]
  },
  {
   "cell_type": "code",
   "execution_count": 53,
   "metadata": {
    "collapsed": false
   },
   "outputs": [
    {
     "data": {
      "text/plain": [
       "'sandman|spider man|symbiote|venom|villain'"
      ]
     },
     "execution_count": 53,
     "metadata": {},
     "output_type": "execute_result"
    }
   ],
   "source": [
    "example = my_data[7,:]\n",
    "example['genre']"
   ]
  },
  {
   "cell_type": "code",
   "execution_count": 55,
   "metadata": {
    "collapsed": false
   },
   "outputs": [],
   "source": [
    "col_names = my_data[0,:]"
   ]
  },
  {
   "cell_type": "code",
   "execution_count": null,
   "metadata": {
    "collapsed": true
   },
   "outputs": [],
   "source": []
  }
 ],
 "metadata": {
  "kernelspec": {
   "display_name": "Python 2",
   "language": "python",
   "name": "python2"
  },
  "language_info": {
   "codemirror_mode": {
    "name": "ipython",
    "version": 2
   },
   "file_extension": ".py",
   "mimetype": "text/x-python",
   "name": "python",
   "nbconvert_exporter": "python",
   "pygments_lexer": "ipython2",
   "version": "2.7.11"
  }
 },
 "nbformat": 4,
 "nbformat_minor": 0
}
