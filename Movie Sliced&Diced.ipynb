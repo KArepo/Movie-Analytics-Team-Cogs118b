{
 "cells": [
  {
   "cell_type": "code",
   "execution_count": 102,
   "metadata": {
    "collapsed": false
   },
   "outputs": [],
   "source": [
    "import numpy as np\n",
    "from StringIO import StringIO\n",
    "import string\n",
    "from scipy import stats\n",
    "from sklearn import datasets, linear_model\n",
    "import math\n",
    "import matplotlib.pyplot as plt"
   ]
  },
  {
   "cell_type": "code",
   "execution_count": 103,
   "metadata": {
    "collapsed": false
   },
   "outputs": [
    {
     "name": "stdout",
     "output_type": "stream",
     "text": [
      "3756\n",
      "19\n"
     ]
    }
   ],
   "source": [
    "# this imports our data\n",
    "data = np.genfromtxt('movie_metadata.csv', dtype=None, delimiter=',', autostrip=True)\n",
    "\n",
    "# this is the uncropped data set\n",
    "fullDataSet = data\n",
    "\n",
    "# this chops out the director name, actor 2 name, actor 1 name, movie Title, actor 3 name, plot keywords,\n",
    "# movie imbd link, language, country, content rating\n",
    "data = np.delete(data, [2, 7, 11, 12, 15, 17, 18, 20, 21, 22], 1)\n",
    "\n",
    "# reducing \"data\" matrix to only numeric data \n",
    "onlyNumericData  = np.delete(data, [1,10,12,13], 1)\n",
    "\n",
    "#vector containing feature names \n",
    "colNames = data[0,:]\n",
    "\n",
    "# cuts out feature label row\n",
    "movieData = np.delete(data, (0), axis=0)\n",
    "\n",
    "# finds length,numMovies, and width,numFeatures, of dataset and prints\n",
    "numMovies = movieData.shape[0]\n",
    "numFeatures = movieData.shape[1]\n",
    "print numMovies \n",
    "print numFeatures"
   ]
  },
  {
   "cell_type": "code",
   "execution_count": 104,
   "metadata": {
    "collapsed": true
   },
   "outputs": [],
   "source": [
    "# STARTS EASYDEX FUNCTION AND EXAMPLES"
   ]
  },
  {
   "cell_type": "code",
   "execution_count": 105,
   "metadata": {
    "collapsed": false
   },
   "outputs": [],
   "source": [
    "# This function provides an easy way of indexing our data set. \n",
    "\n",
    "#The arguments are the movieID, the feature you want or 0 for all features , followed by a boolean 1 or 0 for \n",
    "# the cropped data set \"data\" or the uncropped data set \"fullDataSet\"\n",
    "\n",
    "#\n",
    "# example function calls are: easydex(112,'movieID',1)  \n",
    "#         This returns the 112 movie's movieID which is 112. \n",
    "# example function calls are: easydex(460,0,1)\n",
    "#         This gives all the data on the 460th movie. \n",
    "# example function calls are: easydex(460,0,0)\n",
    "#         This gives all the data on the 460th movie from the \"fullDataSet\" \n",
    "#         instead of the cropped \"data\" matrix.\n",
    "\n",
    "def easydex(MovieRow, FeatureString, selectDataSet):\n",
    "    \n",
    "    if selectDataSet == 1:\n",
    "        dataSet = data\n",
    "    elif selectDataSet == 2:\n",
    "        dataSet = onlyNumericData \n",
    "    else: \n",
    "        dataSet = fullDataSet\n",
    "    \n",
    "    MovieRow = MovieRow -1\n",
    "    my_data_dict= {}\n",
    "   \n",
    "    col_names = dataSet[0,:]\n",
    "   \n",
    "    # returns specific feature for a specific movie\n",
    "    if FeatureString != 0:\n",
    "        for l in range(0,numFeatures):\n",
    "            my_data_dict[col_names[l]]= dataSet[1:,l]\n",
    "   \n",
    "        example1 = my_data_dict[FeatureString]\n",
    "        return[example1[MovieRow]]\n",
    "    \n",
    "    #returns whole row for a specific movie\n",
    "    else:\n",
    "        my_data_neat_index = dataSet[1:,:]\n",
    "        myMovieSample = my_data_neat_index[MovieRow,:]\n",
    "        return myMovieSample"
   ]
  },
  {
   "cell_type": "code",
   "execution_count": 106,
   "metadata": {
    "collapsed": false
   },
   "outputs": [
    {
     "data": {
      "text/plain": [
       "['117']"
      ]
     },
     "execution_count": 106,
     "metadata": {},
     "output_type": "execute_result"
    }
   ],
   "source": [
    "#testing easydex function, output should be 112\n",
    "easydex(112,'movieID',1)"
   ]
  },
  {
   "cell_type": "code",
   "execution_count": 107,
   "metadata": {
    "collapsed": false
   },
   "outputs": [
    {
     "data": {
      "text/plain": [
       "array(['1', 'Color', 'James Cameron', '723', '178', '0', '855',\n",
       "       'Joel David Moore', '1000', '760505847',\n",
       "       'Action|Adventure|Fantasy|Sci-Fi', 'CCH Pounder', '\"\"\"Avatar\"\"\"',\n",
       "       '886204', '4834', 'Wes Studi', '0',\n",
       "       'avatar|future|marine|native|paraplegic',\n",
       "       'http://www.imdb.com/title/tt0499549/?ref_=fn_tt_tt_1', '3054',\n",
       "       'English', 'USA', 'PG-13', '237000000', '2009', '936', '7.9',\n",
       "       '1.78', '33000'], \n",
       "      dtype='|S149')"
      ]
     },
     "execution_count": 107,
     "metadata": {},
     "output_type": "execute_result"
    }
   ],
   "source": [
    "#testing easydex function output\n",
    "#This gives all the data on the 1st movie from the \"fullDataSet\" \n",
    "#instead of the cropped \"data\" matrix.\n",
    "easydex(1,0,0)\n",
    "\n"
   ]
  },
  {
   "cell_type": "code",
   "execution_count": 108,
   "metadata": {
    "collapsed": false
   },
   "outputs": [
    {
     "data": {
      "text/plain": [
       "array(['1', 'Color', '723', '178', '0', '855', '1000', '760505847',\n",
       "       'Action|Adventure|Fantasy|Sci-Fi', '886204', '4834', '0', '3054',\n",
       "       '237000000', '2009', '936', '7.9', '1.78', '33000'], \n",
       "      dtype='|S149')"
      ]
     },
     "execution_count": 108,
     "metadata": {},
     "output_type": "execute_result"
    }
   ],
   "source": [
    "#testing easydex function output should be all data in \"data\" matrix on movie 1\n",
    "easydex(1,0,1)"
   ]
  },
  {
   "cell_type": "code",
   "execution_count": 109,
   "metadata": {
    "collapsed": false
   },
   "outputs": [
    {
     "data": {
      "text/plain": [
       "array(['1', '723', '178', '0', '855', '1000', '760505847',\n",
       "       'Action|Adventure|Fantasy|Sci-Fi', '886204', '0', '2009', '936',\n",
       "       '7.9', '1.78', '33000'], \n",
       "      dtype='|S149')"
      ]
     },
     "execution_count": 109,
     "metadata": {},
     "output_type": "execute_result"
    }
   ],
   "source": [
    "#testing easydex function output\n",
    "#This gives all the data on the 460th movie from the \"fullDataSet\" \n",
    "#instead of the cropped \"data\" matrix.\n",
    "easydex(1,0,2)"
   ]
  },
  {
   "cell_type": "code",
   "execution_count": 110,
   "metadata": {
    "collapsed": true
   },
   "outputs": [],
   "source": [
    "# ENDS EASYDEX FUNCTION AND EXAMPLES"
   ]
  },
  {
   "cell_type": "code",
   "execution_count": 111,
   "metadata": {
    "collapsed": true
   },
   "outputs": [],
   "source": [
    "onlyNumericData = onlyNumericData[1:,:]"
   ]
  },
  {
   "cell_type": "code",
   "execution_count": 112,
   "metadata": {
    "collapsed": false
   },
   "outputs": [
    {
     "name": "stdout",
     "output_type": "stream",
     "text": [
      "['2' '302' '169' '563' '1000' '40000' '309404152'\n",
      " 'Action|Adventure|Fantasy' '471220' '0' '2007' '5000' '7.1' '2.35' '0']\n",
      "['2' '302' '169' '563' '1000' '40000' '309404152'\n",
      " 'Action|Adventure|Fantasy' '471220' '0' '2007' '5000' '7.1' '2.35' '0']\n"
     ]
    },
    {
     "ename": "ValueError",
     "evalue": "could not convert string to float: Action|Adventure|Fantasy|Sci-Fi",
     "output_type": "error",
     "traceback": [
      "\u001b[0;31m---------------------------------------------------------------------------\u001b[0m",
      "\u001b[0;31mValueError\u001b[0m                                Traceback (most recent call last)",
      "\u001b[0;32m<ipython-input-112-96bd582ac59a>\u001b[0m in \u001b[0;36m<module>\u001b[0;34m()\u001b[0m\n\u001b[1;32m      8\u001b[0m \u001b[0;34m\u001b[0m\u001b[0m\n\u001b[1;32m      9\u001b[0m \u001b[0;34m\u001b[0m\u001b[0m\n\u001b[0;32m---> 10\u001b[0;31m \u001b[0monlyNumericData\u001b[0m \u001b[0;34m=\u001b[0m \u001b[0monlyNumericData\u001b[0m\u001b[0;34m.\u001b[0m\u001b[0mastype\u001b[0m\u001b[0;34m(\u001b[0m\u001b[0mnp\u001b[0m\u001b[0;34m.\u001b[0m\u001b[0mfloat\u001b[0m\u001b[0;34m)\u001b[0m\u001b[0;34m\u001b[0m\u001b[0m\n\u001b[0m\u001b[1;32m     11\u001b[0m \u001b[0;32mprint\u001b[0m\u001b[0;34m(\u001b[0m\u001b[0monlyNumericData\u001b[0m\u001b[0;34m[\u001b[0m\u001b[0;36m1\u001b[0m\u001b[0;34m,\u001b[0m\u001b[0;34m:\u001b[0m\u001b[0;34m]\u001b[0m\u001b[0;34m)\u001b[0m\u001b[0;34m\u001b[0m\u001b[0m\n\u001b[1;32m     12\u001b[0m \u001b[0;34m\u001b[0m\u001b[0m\n",
      "\u001b[0;31mValueError\u001b[0m: could not convert string to float: Action|Adventure|Fantasy|Sci-Fi"
     ]
    }
   ],
   "source": [
    "# Normalize the data \n",
    "#stats.zscore(movieData)\n",
    "\n",
    "print (easydex(1,0,2))\n",
    "print(onlyNumericData[1,:])\n",
    "\n",
    "#onlyNumericData = onlyNumericData.astype(float)\n",
    "\n",
    "\n",
    "onlyNumericData = onlyNumericData.astype(np.float)\n",
    "print(onlyNumericData[1,:])\n",
    "\n",
    "#stats.zscore(onlyNumericData , axis=2, ddof=1)"
   ]
  },
  {
   "cell_type": "code",
   "execution_count": 113,
   "metadata": {
    "collapsed": false
   },
   "outputs": [],
   "source": [
    "genres = {'Action', 'Adventure','Animation','Biography','Comedy','Crime','Documentary','Drama','Family','Fantasy',\n",
    "          'Film-Noir','Game-Show','History','Horror','Music','Musical','Mystery','News','Reality-TV','Romance','Sci-Fi',\n",
    "          'Short','Sport','Thriller','War','Western'}\n",
    "\n",
    "moviesByGenreBucket = {}\n",
    "\n",
    "for genre in genres:\n",
    "    moviesByGenreBucket[genre] = []"
   ]
  },
  {
   "cell_type": "code",
   "execution_count": 114,
   "metadata": {
    "collapsed": false,
    "scrolled": false
   },
   "outputs": [],
   "source": [
    "# buckets movieIDs into genre buckets\n",
    "for movie in movieData:    \n",
    "    localGenres = string.split(movie[8], \"|\")\n",
    "    for genre in localGenres:\n",
    "        #print \"adding movieID = %s to genre bucket %s\" % (movie[0], genre)\n",
    "        moviesByGenreBucket[genre].append(movie[0])\n",
    "    \n",
    "    # one hot coding for color feature\n",
    "    if movie[1] == 'Color':\n",
    "        movie[1] = 1\n",
    "    else:\n",
    "        movie[1] = 0\n",
    "\n",
    "# remove genre column now that we have consumed it\n",
    "movieData = np.delete(movieData, 8, 1)\n",
    "\n",
    "# cast dytpe to float\n",
    "movieData = movieData.astype(np.float)"
   ]
  },
  {
   "cell_type": "code",
   "execution_count": 137,
   "metadata": {
    "collapsed": false
   },
   "outputs": [
    {
     "data": {
      "text/plain": [
       "array([[-1.59022935,  0.18477275,  4.50130796, ...,  1.35849773,\n",
       "        -0.93766206,  1.10187025],\n",
       "       [-1.589486  ,  0.18477275,  1.09062269, ...,  0.6009981 ,\n",
       "         0.67697286, -0.43587211],\n",
       "       [-1.58874264,  0.18477275,  3.52103975, ...,  0.31693574,\n",
       "         0.67697286,  3.52497943],\n",
       "       ..., \n",
       "       [ 2.14958324,  0.18477275, -0.19749835, ...,  0.50631065,\n",
       "        -0.73937356,  0.44949471],\n",
       "       [ 2.15106994,  0.18477275, -0.90231929, ...,  0.4116232 ,\n",
       "        -2.09906612, -0.43587211],\n",
       "       [ 2.15627342,  0.18477275, -1.00763737, ...,  0.12756084,\n",
       "        -0.73937356, -0.41462331]])"
      ]
     },
     "execution_count": 137,
     "metadata": {},
     "output_type": "execute_result"
    }
   ],
   "source": [
    "# Zscore my data\n",
    "stats.zscore(movieData, axis=0)"
   ]
  },
  {
   "cell_type": "code",
   "execution_count": 138,
   "metadata": {
    "collapsed": false
   },
   "outputs": [],
   "source": [
    "# Split data into Test, Train\n",
    "dataSplitRate = 0.7\n",
    "numSamples = int(math.floor(numMovies * dataSplitRate))\n",
    "train = movieData[:numSamples].astype(np.float, casting='unsafe')\n",
    "test = movieData[numSamples:].astype(np.float, casting='unsafe')\n",
    "trainX = np.delete(train, 15, axis=1)\n",
    "trainY = train[:,15]\n",
    "testX = np.delete(test, 15, axis=1)\n",
    "testY = test[:,15]"
   ]
  },
  {
   "cell_type": "code",
   "execution_count": 142,
   "metadata": {
    "collapsed": false
   },
   "outputs": [
    {
     "name": "stdout",
     "output_type": "stream",
     "text": [
      "('Coefficients: \\n', array([  1.96244502e-04,  -3.55678194e-01,   2.80247484e-03,\n",
      "         1.27207684e-02,   6.77772711e-06,   5.03001066e-05,\n",
      "         5.74480490e-05,   1.98991180e-10,   3.49006248e-06,\n",
      "        -5.43981456e-05,  -2.98439219e-02,  -6.62235361e-04,\n",
      "         8.71256311e-11,  -1.83375701e-02,   5.98358426e-05,\n",
      "         3.76579688e-02,  -3.49619865e-06]))\n",
      "Mean squared error: 0.79\n",
      "Median squared error: 0.30\n",
      "Variance score: 0.30\n"
     ]
    }
   ],
   "source": [
    "# linear regression\n",
    "regr = linear_model.LinearRegression()\n",
    "regr.fit(trainX, trainY)\n",
    "\n",
    "# The coefficients\n",
    "print('Coefficients: \\n', regr.coef_)\n",
    "\n",
    "# The mean squared error\n",
    "print(\"Mean squared error: %.2f\"\n",
    "      % np.mean((regr.predict(testX) - testY) ** 2))\n",
    "\n",
    "# The mean squared error\n",
    "print(\"Median squared error: %.2f\"\n",
    "      % np.median((regr.predict(testX) - testY) ** 2))\n",
    "\n",
    "# Explained variance score: 1 is perfect prediction\n",
    "print('Variance score: %.2f' % regr.score(testX, testY))\n",
    "\n"
   ]
  },
  {
   "cell_type": "code",
   "execution_count": null,
   "metadata": {
    "collapsed": true
   },
   "outputs": [],
   "source": []
  }
 ],
 "metadata": {
  "anaconda-cloud": {},
  "kernelspec": {
   "display_name": "Python 2",
   "language": "python",
   "name": "python2"
  },
  "language_info": {
   "codemirror_mode": {
    "name": "ipython",
    "version": 2
   },
   "file_extension": ".py",
   "mimetype": "text/x-python",
   "name": "python",
   "nbconvert_exporter": "python",
   "pygments_lexer": "ipython2",
   "version": "2.7.11"
  }
 },
 "nbformat": 4,
 "nbformat_minor": 0
}
